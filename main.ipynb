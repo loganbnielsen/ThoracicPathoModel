{
 "metadata": {
  "language_info": {
   "codemirror_mode": {
    "name": "ipython",
    "version": 3
   },
   "file_extension": ".py",
   "mimetype": "text/x-python",
   "name": "python",
   "nbconvert_exporter": "python",
   "pygments_lexer": "ipython3",
   "version": "3.8.5-final"
  },
  "orig_nbformat": 2,
  "kernelspec": {
   "name": "python3",
   "display_name": "Python 3",
   "language": "python"
  }
 },
 "nbformat": 4,
 "nbformat_minor": 2,
 "cells": [
  {
   "cell_type": "code",
   "execution_count": 1,
   "metadata": {},
   "outputs": [],
   "source": [
    "import configs\n",
    "import torchvision.transforms as T\n",
    "\n",
    "import torch\n",
    "\n",
    "import matplotlib.pyplot as plt\n",
    "\n",
    "import pandas as pd\n",
    "import numpy as np\n",
    "\n",
    "from data import  ThoracicDataset, MedicalImage\n",
    "from torch.utils.data import DataLoader\n",
    "from model import ThoracicPathoModel"
   ]
  },
  {
   "cell_type": "code",
   "execution_count": 2,
   "metadata": {},
   "outputs": [
    {
     "output_type": "stream",
     "name": "stdout",
     "text": [
      "tensor([[[ 92., 146., 135., 255.],\n         [ 79., 122., 115., 255.],\n         [ 84., 132., 121., 255.],\n         ...,\n         [126., 201., 175., 255.],\n         [130., 203., 176., 255.],\n         [131., 204., 177., 255.]],\n\n        [[ 98., 153., 142., 255.],\n         [102., 161., 149., 255.],\n         [  0.,   0.,   0., 255.],\n         ...,\n         [131., 204., 178., 255.],\n         [130., 203., 177., 255.],\n         [133., 205., 178., 255.]],\n\n        [[ 97., 152., 143., 255.],\n         [ 99., 155., 146., 255.],\n         [  0.,   0.,   0., 255.],\n         ...,\n         [133., 205., 178., 255.],\n         [133., 205., 178., 255.],\n         [133., 205., 178., 255.]],\n\n        ...,\n\n        [[  0.,   0.,   0.,   0.],\n         [  0.,   0.,   0.,   0.],\n         [  0.,   0.,   0.,   0.],\n         ...,\n         [  0.,   0.,   0.,   0.],\n         [  0.,   0.,   0.,   0.],\n         [  0.,   0.,   0.,   0.]],\n\n        [[  0.,   0.,   0.,   0.],\n         [  0.,   0.,   0.,   0.],\n         [  0.,   0.,   0.,   0.],\n         ...,\n         [  0.,   0.,   0.,   0.],\n         [  0.,   0.,   0.,   0.],\n         [  0.,   0.,   0.,   0.]],\n\n        [[  0.,   0.,   0.,   0.],\n         [  0.,   0.,   0.,   0.],\n         [  0.,   0.,   0.,   0.],\n         ...,\n         [  0.,   0.,   0.,   0.],\n         [  0.,   0.,   0.,   0.],\n         [  0.,   0.,   0.,   0.]]]) tensor([[[133., 205., 178., 255.],\n         [136., 205., 178., 255.],\n         [ 14.,  21.,  21., 255.],\n         ...,\n         [  0.,   0.,   0.,   0.],\n         [  0.,   0.,   0.,   0.],\n         [  0.,   0.,   0.,   0.]],\n\n        [[133., 205., 177., 255.],\n         [137., 213., 186., 255.],\n         [  0.,   0.,   0., 255.],\n         ...,\n         [  0.,   0.,   0.,   0.],\n         [  0.,   0.,   0.,   0.],\n         [  0.,   0.,   0.,   0.]],\n\n        [[132., 204., 177., 255.],\n         [142., 210., 183., 255.],\n         [  0.,   0.,   0., 255.],\n         ...,\n         [  0.,   0.,   0.,   0.],\n         [  0.,   0.,   0.,   0.],\n         [  0.,   0.,   0.,   0.]],\n\n        ...,\n\n        [[  0.,   0.,   0.,   0.],\n         [  0.,   0.,   0.,   0.],\n         [  0.,   0.,   0.,   0.],\n         ...,\n         [  0.,   0.,   0.,   0.],\n         [  0.,   0.,   0.,   0.],\n         [  0.,   0.,   0.,   0.]],\n\n        [[  0.,   0.,   0.,   0.],\n         [  0.,   0.,   0.,   0.],\n         [  0.,   0.,   0.,   0.],\n         ...,\n         [  0.,   0.,   0.,   0.],\n         [  0.,   0.,   0.,   0.],\n         [  0.,   0.,   0.,   0.]],\n\n        [[  0.,   0.,   0.,   0.],\n         [  0.,   0.,   0.,   0.],\n         [  0.,   0.,   0.,   0.],\n         ...,\n         [  0.,   0.,   0.,   0.],\n         [  0.,   0.,   0.,   0.],\n         [  0.,   0.,   0.,   0.]]])\n"
     ]
    },
    {
     "output_type": "error",
     "ename": "TypeError",
     "evalue": "new(): argument 'size' must be tuple of ints, but found element of type Tensor at pos 2",
     "traceback": [
      "\u001b[0;31m---------------------------------------------------------------------------\u001b[0m",
      "\u001b[0;31mTypeError\u001b[0m                                 Traceback (most recent call last)",
      "\u001b[0;32m<ipython-input-2-aa2791fab7c7>\u001b[0m in \u001b[0;36m<module>\u001b[0;34m\u001b[0m\n\u001b[1;32m      5\u001b[0m \u001b[0mds\u001b[0m\u001b[0;34m.\u001b[0m\u001b[0mregister_splits\u001b[0m\u001b[0;34m(\u001b[0m\u001b[0msplit_X_list\u001b[0m\u001b[0;34m,\u001b[0m \u001b[0msplit_Y_list\u001b[0m\u001b[0;34m)\u001b[0m\u001b[0;34m\u001b[0m\u001b[0;34m\u001b[0m\u001b[0m\n\u001b[1;32m      6\u001b[0m \u001b[0;31m# model\u001b[0m\u001b[0;34m\u001b[0m\u001b[0;34m\u001b[0m\u001b[0;34m\u001b[0m\u001b[0m\n\u001b[0;32m----> 7\u001b[0;31m \u001b[0mmodel\u001b[0m \u001b[0;34m=\u001b[0m \u001b[0mThoracicPathoModel\u001b[0m\u001b[0;34m(\u001b[0m\u001b[0;34m**\u001b[0m\u001b[0mconfigs\u001b[0m\u001b[0;34m.\u001b[0m\u001b[0mMODEL\u001b[0m\u001b[0;34m,\u001b[0m \u001b[0mds\u001b[0m\u001b[0;34m=\u001b[0m\u001b[0mds\u001b[0m\u001b[0;34m)\u001b[0m\u001b[0;34m\u001b[0m\u001b[0;34m\u001b[0m\u001b[0m\n\u001b[0m\u001b[1;32m      8\u001b[0m \u001b[0;31m# init training helpers\u001b[0m\u001b[0;34m\u001b[0m\u001b[0;34m\u001b[0m\u001b[0;34m\u001b[0m\u001b[0m\n\u001b[1;32m      9\u001b[0m \u001b[0mdl\u001b[0m \u001b[0;34m=\u001b[0m \u001b[0mDataLoader\u001b[0m\u001b[0;34m(\u001b[0m\u001b[0mds\u001b[0m\u001b[0;34m)\u001b[0m\u001b[0;34m\u001b[0m\u001b[0;34m\u001b[0m\u001b[0m\n",
      "\u001b[0;32m~/Documents/cs674/proj2/code/model.py\u001b[0m in \u001b[0;36m__init__\u001b[0;34m(self, ds, linear_projection_configs, encoder_configs, res_block_configs, rpn_configs)\u001b[0m\n\u001b[1;32m     57\u001b[0m         \u001b[0;31m# embedding\u001b[0m\u001b[0;34m\u001b[0m\u001b[0;34m\u001b[0m\u001b[0;34m\u001b[0m\u001b[0m\n\u001b[1;32m     58\u001b[0m         \u001b[0mencoder_configs\u001b[0m \u001b[0;34m=\u001b[0m \u001b[0mself\u001b[0m\u001b[0;34m.\u001b[0m\u001b[0m_preprocess_embedding_configs\u001b[0m\u001b[0;34m(\u001b[0m\u001b[0mds\u001b[0m\u001b[0;34m)\u001b[0m\u001b[0;34m\u001b[0m\u001b[0;34m\u001b[0m\u001b[0m\n\u001b[0;32m---> 59\u001b[0;31m         \u001b[0mself\u001b[0m\u001b[0;34m.\u001b[0m\u001b[0membeddings\u001b[0m \u001b[0;34m=\u001b[0m \u001b[0mnn\u001b[0m\u001b[0;34m.\u001b[0m\u001b[0mEmbedding\u001b[0m\u001b[0;34m(\u001b[0m\u001b[0;34m**\u001b[0m\u001b[0mencoder_configs\u001b[0m\u001b[0;34m)\u001b[0m\u001b[0;34m\u001b[0m\u001b[0;34m\u001b[0m\u001b[0m\n\u001b[0m\u001b[1;32m     60\u001b[0m         \u001b[0;31m# transformer encoder\u001b[0m\u001b[0;34m\u001b[0m\u001b[0;34m\u001b[0m\u001b[0;34m\u001b[0m\u001b[0m\n\u001b[1;32m     61\u001b[0m         \u001b[0mencoder_configs\u001b[0m \u001b[0;34m=\u001b[0m \u001b[0mself\u001b[0m\u001b[0;34m.\u001b[0m\u001b[0m_preprocess_encoder_configs\u001b[0m\u001b[0;34m(\u001b[0m\u001b[0mds\u001b[0m\u001b[0;34m,\u001b[0m \u001b[0mencoder_configs\u001b[0m\u001b[0;34m)\u001b[0m\u001b[0;34m\u001b[0m\u001b[0;34m\u001b[0m\u001b[0m\n",
      "\u001b[0;32m~/.local/lib/python3.8/site-packages/torch/nn/modules/sparse.py\u001b[0m in \u001b[0;36m__init__\u001b[0;34m(self, num_embeddings, embedding_dim, padding_idx, max_norm, norm_type, scale_grad_by_freq, sparse, _weight)\u001b[0m\n\u001b[1;32m    107\u001b[0m         \u001b[0mself\u001b[0m\u001b[0;34m.\u001b[0m\u001b[0mscale_grad_by_freq\u001b[0m \u001b[0;34m=\u001b[0m \u001b[0mscale_grad_by_freq\u001b[0m\u001b[0;34m\u001b[0m\u001b[0;34m\u001b[0m\u001b[0m\n\u001b[1;32m    108\u001b[0m         \u001b[0;32mif\u001b[0m \u001b[0m_weight\u001b[0m \u001b[0;32mis\u001b[0m \u001b[0;32mNone\u001b[0m\u001b[0;34m:\u001b[0m\u001b[0;34m\u001b[0m\u001b[0;34m\u001b[0m\u001b[0m\n\u001b[0;32m--> 109\u001b[0;31m             \u001b[0mself\u001b[0m\u001b[0;34m.\u001b[0m\u001b[0mweight\u001b[0m \u001b[0;34m=\u001b[0m \u001b[0mParameter\u001b[0m\u001b[0;34m(\u001b[0m\u001b[0mtorch\u001b[0m\u001b[0;34m.\u001b[0m\u001b[0mTensor\u001b[0m\u001b[0;34m(\u001b[0m\u001b[0mnum_embeddings\u001b[0m\u001b[0;34m,\u001b[0m \u001b[0membedding_dim\u001b[0m\u001b[0;34m)\u001b[0m\u001b[0;34m)\u001b[0m\u001b[0;34m\u001b[0m\u001b[0;34m\u001b[0m\u001b[0m\n\u001b[0m\u001b[1;32m    110\u001b[0m             \u001b[0mself\u001b[0m\u001b[0;34m.\u001b[0m\u001b[0mreset_parameters\u001b[0m\u001b[0;34m(\u001b[0m\u001b[0;34m)\u001b[0m\u001b[0;34m\u001b[0m\u001b[0;34m\u001b[0m\u001b[0m\n\u001b[1;32m    111\u001b[0m         \u001b[0;32melse\u001b[0m\u001b[0;34m:\u001b[0m\u001b[0;34m\u001b[0m\u001b[0;34m\u001b[0m\u001b[0m\n",
      "\u001b[0;31mTypeError\u001b[0m: new(): argument 'size' must be tuple of ints, but found element of type Tensor at pos 2"
     ]
    }
   ],
   "source": [
    "# data\n",
    "transforms = T.Compose([])\n",
    "ds = ThoracicDataset(**configs.DATA, transform=transforms)\n",
    "split_X_list, split_Y_list = ds.get_med_image(0).get_split_dims(4,4)\n",
    "ds.register_splits(split_X_list, split_Y_list)\n",
    "# model\n",
    "model = ThoracicPathoModel(**configs.MODEL, ds=ds)\n",
    "# init training helpers\n",
    "dl = DataLoader(ds)"
   ]
  },
  {
   "cell_type": "code",
   "execution_count": 4,
   "metadata": {},
   "outputs": [
    {
     "output_type": "execute_result",
     "data": {
      "text/plain": [
       "64.0"
      ]
     },
     "metadata": {},
     "execution_count": 4
    }
   ],
   "source": [
    "256 / 4"
   ]
  },
  {
   "cell_type": "code",
   "execution_count": 3,
   "metadata": {},
   "outputs": [],
   "source": [
    "transforms = T.Compose([])\n",
    "ds = ThoracicDataset(**configs.DATA, transform=transforms)\n",
    "split_X_list, split_Y_list = ds.get_med_image(0).get_split_dims(4,4)"
   ]
  },
  {
   "cell_type": "code",
   "execution_count": 5,
   "metadata": {},
   "outputs": [
    {
     "output_type": "execute_result",
     "data": {
      "text/plain": [
       "tensor([[[[0., 0., 0., 0.],\n",
       "          [0., 0., 0., 0.],\n",
       "          [0., 0., 0., 0.],\n",
       "          ...,\n",
       "          [0., 0., 0., 0.],\n",
       "          [0., 0., 0., 0.],\n",
       "          [0., 0., 0., 0.]],\n",
       "\n",
       "         [[0., 0., 0., 0.],\n",
       "          [0., 0., 0., 0.],\n",
       "          [0., 0., 0., 0.],\n",
       "          ...,\n",
       "          [0., 0., 0., 0.],\n",
       "          [0., 0., 0., 0.],\n",
       "          [0., 0., 0., 0.]],\n",
       "\n",
       "         [[0., 0., 0., 0.],\n",
       "          [0., 0., 0., 0.],\n",
       "          [0., 0., 0., 0.],\n",
       "          ...,\n",
       "          [0., 0., 0., 0.],\n",
       "          [0., 0., 0., 0.],\n",
       "          [0., 0., 0., 0.]],\n",
       "\n",
       "         ...,\n",
       "\n",
       "         [[0., 0., 0., 0.],\n",
       "          [0., 0., 0., 0.],\n",
       "          [0., 0., 0., 0.],\n",
       "          ...,\n",
       "          [0., 0., 0., 0.],\n",
       "          [0., 0., 0., 0.],\n",
       "          [0., 0., 0., 0.]],\n",
       "\n",
       "         [[0., 0., 0., 0.],\n",
       "          [0., 0., 0., 0.],\n",
       "          [0., 0., 0., 0.],\n",
       "          ...,\n",
       "          [0., 0., 0., 0.],\n",
       "          [0., 0., 0., 0.],\n",
       "          [0., 0., 0., 0.]],\n",
       "\n",
       "         [[0., 0., 0., 0.],\n",
       "          [0., 0., 0., 0.],\n",
       "          [0., 0., 0., 0.],\n",
       "          ...,\n",
       "          [0., 0., 0., 0.],\n",
       "          [0., 0., 0., 0.],\n",
       "          [0., 0., 0., 0.]]]])"
      ]
     },
     "metadata": {},
     "execution_count": 5
    }
   ],
   "source": [
    "ds[0]"
   ]
  }
 ]
}